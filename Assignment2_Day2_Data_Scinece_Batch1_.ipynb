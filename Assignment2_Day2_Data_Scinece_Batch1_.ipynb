{
  "nbformat": 4,
  "nbformat_minor": 0,
  "metadata": {
    "colab": {
      "name": "Assignment2_Day2_Data_Scinece_Batch1 .ipynb",
      "provenance": [],
      "authorship_tag": "ABX9TyMfa6RZOf0V/M8Bb2GufRPG",
      "include_colab_link": true
    },
    "kernelspec": {
      "name": "python3",
      "display_name": "Python 3"
    }
  },
  "cells": [
    {
      "cell_type": "markdown",
      "metadata": {
        "id": "view-in-github",
        "colab_type": "text"
      },
      "source": [
        "<a href=\"https://colab.research.google.com/github/vinayak8186/letsupgrade_Data_Science_Batch-1/blob/main/Assignment2_Day2_Data_Scinece_Batch1_.ipynb\" target=\"_parent\"><img src=\"https://colab.research.google.com/assets/colab-badge.svg\" alt=\"Open In Colab\"/></a>"
      ]
    },
    {
      "cell_type": "code",
      "metadata": {
        "id": "80cck3wsSsi-",
        "outputId": "ac2e6adc-f971-48b7-9c14-aca4e5eb346c",
        "colab": {
          "base_uri": "https://localhost:8080/"
        }
      },
      "source": [
        "# Questions 1:\n",
        "# Create an empty list. Accept 10 numbers from the user and append to it the list if it is an even number.\n",
        "\n",
        "def even_number(A): \n",
        "   evenlist = []  \n",
        "   for i in A: \n",
        "      if (i % 2 == 0): \n",
        "         evenlist.append(i) \n",
        "   print(\"Even lists:\", evenlist) \n",
        "       \n",
        "A=list()\n",
        "n=int(input(\"Enter the size of the First List ::\"))\n",
        "print(\"Enter the Element of First  List ::\")\n",
        "for i in range(int(n)):\n",
        "   k=int(input(\"\"))\n",
        "   A.append(k)\n",
        "even_number(A)\n",
        "\n",
        "# Questions 2:\n",
        "# Create a notebook on LIST COMPREHENSION. This exercise is to put you in a Self learning mode\n",
        "\n",
        "square = [i**2 for i in range(1,101)]\n",
        "print(square)\n",
        "\n",
        "# Questions 3:\n",
        "# You have seen in the videos how powerful dictionary data structure is.\n",
        "# In this assignment, given a number n, you have to write a program that generates a dictionary d which\n",
        "# contains (i, i*i), where i is from 1 to n (both included).\n",
        "# Then you have to just print this dictionary d.\n",
        "\n",
        "def dictionary_function(D):\n",
        "  num = {}\n",
        "  for i in range(1, D+1):\n",
        "    num[i]= i**2\n",
        "  return num\n",
        "d1 = int(input(\"Enter the number : \"))\n",
        "print(dictionary_function(d1))\n",
        "\n",
        "# Questions 4:\n",
        "# There is a robot which wants to go the charging point to charge itself. The robot moves in a 2-D plane from the original point (0,0). The robot can\n",
        "# move toward UP, DOWN, LEFT and RIGHT with given steps.\n",
        "\n",
        "# Write a program to compute the distance between the current position after a sequence of movement and original point. If the distance is a float, then\n",
        "# just print the nearest integer (use round() function for that and then convert it into an integer).\n",
        "\n",
        "import math\n",
        "print(\"First point axis x1, y1 \")\n",
        "print(\"=\"*25)\n",
        "x1 = float(input(\"Input the value of x1 : \"))\n",
        "y1 = float(input(\"Input the value of y1 : \"))\n",
        "print(\"Second point axis x2, y2 \")\n",
        "print(\"=\"*25)\n",
        "x2 = float(input(\"Input the value of x2 : \"))\n",
        "y2 = float(input(\"Input the value of y2 : \"))\n",
        "p1=[x1,y1]\n",
        "p2=[x2,y2]\n",
        "dist=math.sqrt (((p1[0]-p2[0])**2)+((p1[1]-p2[1])**2))\n",
        "print(\"The distance is : \", round(dist))"
      ],
      "execution_count": 1,
      "outputs": [
        {
          "output_type": "stream",
          "text": [
            "Enter the size of the First List ::10\n",
            "Enter the Element of First  List ::\n",
            "21\n",
            "22\n",
            "23\n",
            "24\n",
            "25\n",
            "26\n",
            "27\n",
            "28\n",
            "29\n",
            "30\n",
            "Even lists: [22, 24, 26, 28, 30]\n",
            "[1, 4, 9, 16, 25, 36, 49, 64, 81, 100, 121, 144, 169, 196, 225, 256, 289, 324, 361, 400, 441, 484, 529, 576, 625, 676, 729, 784, 841, 900, 961, 1024, 1089, 1156, 1225, 1296, 1369, 1444, 1521, 1600, 1681, 1764, 1849, 1936, 2025, 2116, 2209, 2304, 2401, 2500, 2601, 2704, 2809, 2916, 3025, 3136, 3249, 3364, 3481, 3600, 3721, 3844, 3969, 4096, 4225, 4356, 4489, 4624, 4761, 4900, 5041, 5184, 5329, 5476, 5625, 5776, 5929, 6084, 6241, 6400, 6561, 6724, 6889, 7056, 7225, 7396, 7569, 7744, 7921, 8100, 8281, 8464, 8649, 8836, 9025, 9216, 9409, 9604, 9801, 10000]\n",
            "Enter the number : 5\n",
            "{1: 1, 2: 4, 3: 9, 4: 16, 5: 25}\n",
            "First point axis x1, y1 \n",
            "=========================\n",
            "Input the value of x1 : 20\n",
            "Input the value of y1 : 30\n",
            "Second point axis x2, y2 \n",
            "=========================\n",
            "Input the value of x2 : 25\n",
            "Input the value of y2 : 35\n",
            "The distance is :  7\n"
          ],
          "name": "stdout"
        }
      ]
    }
  ]
}